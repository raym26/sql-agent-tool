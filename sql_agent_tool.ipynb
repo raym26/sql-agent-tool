{
 "cells": [
  {
   "cell_type": "markdown",
   "id": "65064dfb-cb76-4106-ab8e-39ccaa842dd7",
   "metadata": {},
   "source": [
    "# SQL Conversations: Building an Intelligent Database Query Assistant\n",
    "\n",
    "#### This notebook demonstrates how to create an AI-powered SQL agent that translates natural language questions into database queries, providing both accurate results and transparency into its reasoning process. By leveraging LangChain's SQL agent framework paired with a language model, we've built a system that allows non-technical users to extract insights from databases through simple questions while giving developers visibility into the agent's step-by-step thought process—from question interpretation to SQL formulation to answer generation.\n",
    "\n",
    "#### It's fairly straightforward.  Step 1: connect to your llm and database.  Step 2: initialize your toolkit and agent with the llm and the db schema.  Step 3: run agent.  In roughly ~ 20 lines of code.  \n"
   ]
  },
  {
   "cell_type": "markdown",
   "id": "a2661af2-8049-402d-b693-bce6c2580893",
   "metadata": {},
   "source": [
    "### 1. Import libraries and dependencies"
   ]
  },
  {
   "cell_type": "code",
   "execution_count": 547,
   "id": "ce2ffd3c-24a8-40c3-ba27-22a4e0d1efb6",
   "metadata": {},
   "outputs": [],
   "source": [
    "from langchain_google_genai import ChatGoogleGenerativeAI\n",
    "from langchain.utilities import SQLDatabase\n",
    "from langchain_community.agent_toolkits import SQLDatabaseToolkit\n",
    "from langchain.agents import create_sql_agent\n",
    "from langchain.agents import AgentExecutor\n",
    "from langchain.prompts.prompt import PromptTemplate\n",
    "\n",
    "import sqlite3\n",
    "import json\n",
    "import os"
   ]
  },
  {
   "cell_type": "markdown",
   "id": "44cd5448-868a-4d46-9ada-5a52240a5f71",
   "metadata": {},
   "source": [
    "### 2. Setup LLM and API key\n",
    "\n",
    "For our purposes, I'm using Gemini-1.5-pro.  But feel free to use others."
   ]
  },
  {
   "cell_type": "code",
   "execution_count": 525,
   "id": "f2083535-28bc-4e14-ba53-f35191275c9d",
   "metadata": {},
   "outputs": [],
   "source": [
    "\n",
    "GOOGLE_API_KEY=  <YOUR_API_KEY>\n",
    "\n",
    "llm = ChatGoogleGenerativeAI(model= \"gemini-1.5-pro\" , #\"gemini-pro\",\n",
    "                           google_api_key=os.environ.get('GOOGLE_API_KEY'),\n",
    "                           temperature=0.1)\n",
    "\n",
    "results = llm.invoke(\"what are AI agents\")"
   ]
  },
  {
   "cell_type": "code",
   "execution_count": 578,
   "id": "a0c3bded-5f9f-4cd2-b90a-95eb30f9c9c5",
   "metadata": {},
   "outputs": [
    {
     "name": "stdout",
     "output_type": "stream",
     "text": [
      "AI agents are software programs that can act autonomously to achieve a given goal.  They perceive their environment, make decisions based on that perception, and then take actions to influence the environment.  Think of them as digital robots that operate in software environments rather than the physical world.\n",
      "\n",
      "Here's a breakdown of key characteristics:\n",
      "\n",
      "* **Autonomy:**  AI agents operate independently, making decisions and taking actions without constant human intervention.  They can adapt to changing circumstances and learn from experience.\n",
      "* **Goal-Oriented:** They are designed with a specific objective in mind, whether it's playing a game, managing a schedule, or analyzing data.  Their actions are directed towards achieving this goal.\n",
      "* **Perception:** They gather information about their environment through sensors.  In a virtual world, this might involve accessing data, reading text, or interpreting images.\n",
      "* **Action:** They can perform actions that affect their environment.  This could involve sending emails, modifying files, controlling software, or interacting with other agents.\n",
      "* **Learning:** Many advanced AI agents can learn from their experiences and improve their performance over time.  This can involve techniques like machine learning and reinforcement learning.\n",
      "\n",
      "Different Types of AI Agents:\n",
      "\n",
      "* **Simple Reflex Agents:** These agents react directly to their environment based on pre-defined rules.  They don't consider past experiences or future consequences.\n",
      "* **Model-Based Reflex Agents:** These agents maintain an internal model of the world and use it to make decisions.  They can consider past experiences and predict future outcomes.\n",
      "* **Goal-Based Agents:** These agents have a specific goal and plan their actions to achieve it.  They can consider multiple steps and evaluate different strategies.\n",
      "* **Utility-Based Agents:** These agents aim to maximize a utility function, which represents their preferences and priorities.  They can make trade-offs between different goals and choose the best course of action.\n",
      "* **Learning Agents:** These agents can improve their performance over time by learning from their experiences.  They can adapt to changing environments and discover new strategies.\n",
      "\n",
      "Examples of AI Agents in Action:\n",
      "\n",
      "* **Chatbots:**  Answering customer questions, providing support, and guiding users through websites.\n",
      "* **Personal Assistants:** Managing schedules, setting reminders, and performing tasks like booking appointments.\n",
      "* **Gaming AI:** Controlling non-player characters (NPCs) in video games, providing challenges and creating dynamic gameplay.\n",
      "* **Trading Bots:**  Analyzing market data and executing trades automatically.\n",
      "* **Self-Driving Cars:**  Navigating roads, making driving decisions, and avoiding obstacles.\n",
      "\n",
      "The field of AI agents is constantly evolving, with researchers developing increasingly sophisticated and capable agents that can perform complex tasks and solve challenging problems.  They are becoming an integral part of many different applications, from personal assistants to industrial automation.\n",
      "\n"
     ]
    }
   ],
   "source": [
    "# Testing the connection\n",
    "print(results.content)"
   ]
  },
  {
   "cell_type": "markdown",
   "id": "f0510975-384b-475a-9cca-922365c0a630",
   "metadata": {},
   "source": [
    "### 3. Connect to the (made-up) database and Do basic EDA\n",
    "\n",
    "For this exercise I mocked up simple SQlite database, the schema of which is printed below.  "
   ]
  },
  {
   "cell_type": "code",
   "execution_count": 551,
   "id": "7d1b22c1-3088-41a0-acac-615063de8507",
   "metadata": {},
   "outputs": [],
   "source": [
    "# Connect to the database\n",
    "db_path = \"sqlite:///ecommerce_sample.db\"\n",
    "db = SQLDatabase.from_uri(db_path)"
   ]
  },
  {
   "cell_type": "code",
   "execution_count": 557,
   "id": "dc57acdb-e197-4ace-9b8c-4b609fa051a7",
   "metadata": {},
   "outputs": [
    {
     "name": "stdout",
     "output_type": "stream",
     "text": [
      "\n",
      "CREATE TABLE categories (\n",
      "\tcategory_id INTEGER, \n",
      "\tname TEXT NOT NULL, \n",
      "\tdescription TEXT, \n",
      "\tPRIMARY KEY (category_id)\n",
      ")\n",
      "\n",
      "/*\n",
      "3 rows from categories table:\n",
      "category_id\tname\tdescription\n",
      "1\tElectronics\tElectronic gadgets and devices\n",
      "2\tClothing\tApparel and accessories\n",
      "3\tBooks\tBooks and e-books\n",
      "*/\n",
      "\n",
      "\n",
      "CREATE TABLE customers (\n",
      "\tcustomer_id INTEGER, \n",
      "\tfirst_name TEXT NOT NULL, \n",
      "\tlast_name TEXT NOT NULL, \n",
      "\temail TEXT NOT NULL, \n",
      "\tphone TEXT, \n",
      "\taddress TEXT, \n",
      "\tcity TEXT, \n",
      "\tstate TEXT, \n",
      "\tzip_code TEXT, \n",
      "\tregistration_date DATE DEFAULT CURRENT_DATE, \n",
      "\tPRIMARY KEY (customer_id), \n",
      "\tUNIQUE (email)\n",
      ")\n",
      "\n",
      "/*\n",
      "3 rows from customers table:\n",
      "customer_id\tfirst_name\tlast_name\temail\tphone\taddress\tcity\tstate\tzip_code\tregistration_date\n",
      "1\tJohn\tDoe\tjohn.doe@example.com\t555-123-4567\t123 Main St\tAustin\tTX\t78701\t2025-04-15\n",
      "2\tJane\tSmith\tjane.smith@example.com\t555-987-6543\t456 Oak Ave\tSan Francisco\tCA\t94103\t2025-04-15\n",
      "3\tMichael\tJohnson\tmichael.j@example.com\t555-234-5678\t789 Pine Rd\tNew York\tNY\t10001\t2025-04-15\n",
      "*/\n",
      "\n",
      "\n",
      "CREATE TABLE order_items (\n",
      "\torder_item_id INTEGER, \n",
      "\torder_id INTEGER NOT NULL, \n",
      "\tproduct_id INTEGER NOT NULL, \n",
      "\tquantity INTEGER NOT NULL, \n",
      "\tunit_price DECIMAL(10, 2) NOT NULL, \n",
      "\tPRIMARY KEY (order_item_id), \n",
      "\tFOREIGN KEY(order_id) REFERENCES orders (order_id), \n",
      "\tFOREIGN KEY(product_id) REFERENCES products (product_id)\n",
      ")\n",
      "\n",
      "/*\n",
      "3 rows from order_items table:\n",
      "order_item_id\torder_id\tproduct_id\tquantity\tunit_price\n",
      "1\t1\t1\t1\t699.99\n",
      "2\t1\t3\t1\t49.99\n",
      "3\t2\t4\t2\t19.99\n",
      "*/\n",
      "\n",
      "\n",
      "CREATE TABLE orders (\n",
      "\torder_id INTEGER, \n",
      "\tcustomer_id INTEGER NOT NULL, \n",
      "\torder_date DATETIME DEFAULT CURRENT_TIMESTAMP, \n",
      "\tstatus TEXT DEFAULT 'pending', \n",
      "\ttotal_amount DECIMAL(10, 2), \n",
      "\tPRIMARY KEY (order_id), \n",
      "\tFOREIGN KEY(customer_id) REFERENCES customers (customer_id)\n",
      ")\n",
      "\n",
      "/*\n",
      "3 rows from orders table:\n",
      "order_id\tcustomer_id\torder_date\tstatus\ttotal_amount\n",
      "1\t1\t2023-01-15 10:30:00\tcompleted\t749.98\n",
      "2\t2\t2023-01-20 14:15:00\tcompleted\t64.98\n",
      "3\t3\t2023-02-05 09:45:00\tshipped\t1299.99\n",
      "*/\n",
      "\n",
      "\n",
      "CREATE TABLE products (\n",
      "\tproduct_id INTEGER, \n",
      "\tname TEXT NOT NULL, \n",
      "\tdescription TEXT, \n",
      "\tprice DECIMAL(10, 2) NOT NULL, \n",
      "\tcategory_id INTEGER, \n",
      "\tstock_quantity INTEGER DEFAULT 0, \n",
      "\tPRIMARY KEY (product_id), \n",
      "\tFOREIGN KEY(category_id) REFERENCES categories (category_id)\n",
      ")\n",
      "\n",
      "/*\n",
      "3 rows from products table:\n",
      "product_id\tname\tdescription\tprice\tcategory_id\tstock_quantity\n",
      "1\tSmartphone X\tLatest smartphone with advanced features\t699.99\t1\t50\n",
      "2\tLaptop Pro\tProfessional laptop for work and gaming\t1299.99\t1\t25\n",
      "3\tWireless Headphones\tNoise-canceling wireless headphones\t149.99\t1\t100\n",
      "*/\n"
     ]
    }
   ],
   "source": [
    "# View schema and sample data\n",
    "print(db.table_info)"
   ]
  },
  {
   "cell_type": "markdown",
   "id": "80d2d765-e12a-45c0-8f1b-538b065310d3",
   "metadata": {},
   "source": [
    "#### 4. Test using a prompt"
   ]
  },
  {
   "cell_type": "markdown",
   "id": "7e38d5d0-d582-45e1-913b-4c49206b93c0",
   "metadata": {},
   "source": [
    "I decided to use Langchain's create_sql_agent(), a conversational AI agent that can interact with SQL databases. The toolkit provides the agent with database access capabilities, while the LangChain agent function connects this toolkit to a large language model (LLM). When executed, this agent interprets natural language queries (like \"Who are the customers that have spent more than $500?\"), translates them into SQL queries, executes those queries against the connected database, and returns the results in a human-readable format. The verbose flag enables detailed logging of the agent's thought process.\n",
    "\n",
    "Just a general comment on the agent, it's interesting to see the 'thought' process under the hood.  I think it ultimately helps the developer better understand the logic and can also ultimately help in the debug process.  "
   ]
  },
  {
   "cell_type": "code",
   "execution_count": 559,
   "id": "b6d6c793-6dd5-47d8-a514-a537c2789a1a",
   "metadata": {},
   "outputs": [
    {
     "name": "stdout",
     "output_type": "stream",
     "text": [
      "\n",
      "\n",
      "\u001b[1m> Entering new SQL Agent Executor chain...\u001b[0m\n",
      "\u001b[32;1m\u001b[1;3mThought: I should look at the tables in the database to see what I can query.  Then I should query the schema of the most relevant tables.\n",
      "Action: sql_db_list_tables\n",
      "Action Input: \u001b[0m\u001b[38;5;200m\u001b[1;3mcategories, customers, order_items, orders, products\u001b[0m\u001b[32;1m\u001b[1;3mThought: The `customers` and `orders` tables seem relevant. I'll check their schema.\n",
      "Action: sql_db_schema\n",
      "Action Input: customers, orders\u001b[0m\u001b[33;1m\u001b[1;3m\n",
      "CREATE TABLE customers (\n",
      "\tcustomer_id INTEGER, \n",
      "\tfirst_name TEXT NOT NULL, \n",
      "\tlast_name TEXT NOT NULL, \n",
      "\temail TEXT NOT NULL, \n",
      "\tphone TEXT, \n",
      "\taddress TEXT, \n",
      "\tcity TEXT, \n",
      "\tstate TEXT, \n",
      "\tzip_code TEXT, \n",
      "\tregistration_date DATE DEFAULT CURRENT_DATE, \n",
      "\tPRIMARY KEY (customer_id), \n",
      "\tUNIQUE (email)\n",
      ")\n",
      "\n",
      "/*\n",
      "3 rows from customers table:\n",
      "customer_id\tfirst_name\tlast_name\temail\tphone\taddress\tcity\tstate\tzip_code\tregistration_date\n",
      "1\tJohn\tDoe\tjohn.doe@example.com\t555-123-4567\t123 Main St\tAustin\tTX\t78701\t2025-04-15\n",
      "2\tJane\tSmith\tjane.smith@example.com\t555-987-6543\t456 Oak Ave\tSan Francisco\tCA\t94103\t2025-04-15\n",
      "3\tMichael\tJohnson\tmichael.j@example.com\t555-234-5678\t789 Pine Rd\tNew York\tNY\t10001\t2025-04-15\n",
      "*/\n",
      "\n",
      "\n",
      "CREATE TABLE orders (\n",
      "\torder_id INTEGER, \n",
      "\tcustomer_id INTEGER NOT NULL, \n",
      "\torder_date DATETIME DEFAULT CURRENT_TIMESTAMP, \n",
      "\tstatus TEXT DEFAULT 'pending', \n",
      "\ttotal_amount DECIMAL(10, 2), \n",
      "\tPRIMARY KEY (order_id), \n",
      "\tFOREIGN KEY(customer_id) REFERENCES customers (customer_id)\n",
      ")\n",
      "\n",
      "/*\n",
      "3 rows from orders table:\n",
      "order_id\tcustomer_id\torder_date\tstatus\ttotal_amount\n",
      "1\t1\t2023-01-15 10:30:00\tcompleted\t749.98\n",
      "2\t2\t2023-01-20 14:15:00\tcompleted\t64.98\n",
      "3\t3\t2023-02-05 09:45:00\tshipped\t1299.99\n",
      "*/\u001b[0m\u001b[32;1m\u001b[1;3mI can query the `orders` table for orders with `total_amount` greater than 500, and join with the `customers` table to get the customer information.\n",
      "Action: sql_db_query_checker\n",
      "Action Input: SELECT first_name, last_name FROM customers c JOIN orders o ON c.customer_id = o.customer_id WHERE o.total_amount > 500 LIMIT 10\u001b[0m\u001b[36;1m\u001b[1;3m```sql\n",
      "SELECT first_name, last_name FROM customers c JOIN orders o ON c.customer_id = o.customer_id WHERE o.total_amount > 500 LIMIT 10\n",
      "```\u001b[0m\u001b[32;1m\u001b[1;3mThe query looks good. I'll execute it.\n",
      "Action: sql_db_query\n",
      "Action Input: SELECT first_name, last_name FROM customers c JOIN orders o ON c.customer_id = o.customer_id WHERE o.total_amount > 500 LIMIT 10\u001b[0m\u001b[36;1m\u001b[1;3m[('John', 'Doe'), ('Michael', 'Johnson')]\u001b[0m\u001b[32;1m\u001b[1;3mI now know the final answer.\n",
      "Final Answer: John Doe and Michael Johnson.\n",
      "\u001b[0m\n",
      "\n",
      "\u001b[1m> Finished chain.\u001b[0m\n",
      "John Doe and Michael Johnson.\n"
     ]
    }
   ],
   "source": [
    "# Create a toolkit and agent\n",
    "toolkit = SQLDatabaseToolkit(db=db, llm=llm)\n",
    "agent = create_sql_agent(\n",
    "    llm=llm,\n",
    "    toolkit=toolkit,\n",
    "    verbose=True\n",
    ")\n",
    "\n",
    "# Run the agent\n",
    "result = agent.run(\"Who are the customers that have spent more than $500?\")\n",
    "print(result)"
   ]
  },
  {
   "cell_type": "markdown",
   "id": "00893869-7be6-49f6-a593-b633b1528c2d",
   "metadata": {},
   "source": [
    "#### 4. Testing with more complex questions\n",
    "\n",
    "In this example, I want to see if the agent can figure out that it needs "
   ]
  },
  {
   "cell_type": "code",
   "execution_count": 600,
   "id": "40958eca-81a5-436c-a0da-dc5955fe5b1b",
   "metadata": {},
   "outputs": [
    {
     "name": "stdout",
     "output_type": "stream",
     "text": [
      "\n",
      "\n",
      "\u001b[1m> Entering new SQL Agent Executor chain...\u001b[0m\n",
      "\u001b[32;1m\u001b[1;3mThought: I should look at the tables in the database to see what I can query.  Then I should query the schema of the most relevant tables.\n",
      "Action: sql_db_list_tables\n",
      "Action Input: \u001b[0m\u001b[38;5;200m\u001b[1;3mcategories, customers, order_items, orders, products\u001b[0m\u001b[32;1m\u001b[1;3mThought: The relevant tables are customers, orders, order_items, and products. I'll check their schema.\n",
      "Action: sql_db_schema\n",
      "Action Input: customers, orders, order_items, products\u001b[0m\u001b[33;1m\u001b[1;3m\n",
      "CREATE TABLE customers (\n",
      "\tcustomer_id INTEGER, \n",
      "\tfirst_name TEXT NOT NULL, \n",
      "\tlast_name TEXT NOT NULL, \n",
      "\temail TEXT NOT NULL, \n",
      "\tphone TEXT, \n",
      "\taddress TEXT, \n",
      "\tcity TEXT, \n",
      "\tstate TEXT, \n",
      "\tzip_code TEXT, \n",
      "\tregistration_date DATE DEFAULT CURRENT_DATE, \n",
      "\tPRIMARY KEY (customer_id), \n",
      "\tUNIQUE (email)\n",
      ")\n",
      "\n",
      "/*\n",
      "3 rows from customers table:\n",
      "customer_id\tfirst_name\tlast_name\temail\tphone\taddress\tcity\tstate\tzip_code\tregistration_date\n",
      "1\tJohn\tDoe\tjohn.doe@example.com\t555-123-4567\t123 Main St\tAustin\tTX\t78701\t2025-04-15\n",
      "2\tJane\tSmith\tjane.smith@example.com\t555-987-6543\t456 Oak Ave\tSan Francisco\tCA\t94103\t2025-04-15\n",
      "3\tMichael\tJohnson\tmichael.j@example.com\t555-234-5678\t789 Pine Rd\tNew York\tNY\t10001\t2025-04-15\n",
      "*/\n",
      "\n",
      "\n",
      "CREATE TABLE order_items (\n",
      "\torder_item_id INTEGER, \n",
      "\torder_id INTEGER NOT NULL, \n",
      "\tproduct_id INTEGER NOT NULL, \n",
      "\tquantity INTEGER NOT NULL, \n",
      "\tunit_price DECIMAL(10, 2) NOT NULL, \n",
      "\tPRIMARY KEY (order_item_id), \n",
      "\tFOREIGN KEY(order_id) REFERENCES orders (order_id), \n",
      "\tFOREIGN KEY(product_id) REFERENCES products (product_id)\n",
      ")\n",
      "\n",
      "/*\n",
      "3 rows from order_items table:\n",
      "order_item_id\torder_id\tproduct_id\tquantity\tunit_price\n",
      "1\t1\t1\t1\t699.99\n",
      "2\t1\t3\t1\t49.99\n",
      "3\t2\t4\t2\t19.99\n",
      "*/\n",
      "\n",
      "\n",
      "CREATE TABLE orders (\n",
      "\torder_id INTEGER, \n",
      "\tcustomer_id INTEGER NOT NULL, \n",
      "\torder_date DATETIME DEFAULT CURRENT_TIMESTAMP, \n",
      "\tstatus TEXT DEFAULT 'pending', \n",
      "\ttotal_amount DECIMAL(10, 2), \n",
      "\tPRIMARY KEY (order_id), \n",
      "\tFOREIGN KEY(customer_id) REFERENCES customers (customer_id)\n",
      ")\n",
      "\n",
      "/*\n",
      "3 rows from orders table:\n",
      "order_id\tcustomer_id\torder_date\tstatus\ttotal_amount\n",
      "1\t1\t2023-01-15 10:30:00\tcompleted\t749.98\n",
      "2\t2\t2023-01-20 14:15:00\tcompleted\t64.98\n",
      "3\t3\t2023-02-05 09:45:00\tshipped\t1299.99\n",
      "*/\n",
      "\n",
      "\n",
      "CREATE TABLE products (\n",
      "\tproduct_id INTEGER, \n",
      "\tname TEXT NOT NULL, \n",
      "\tdescription TEXT, \n",
      "\tprice DECIMAL(10, 2) NOT NULL, \n",
      "\tcategory_id INTEGER, \n",
      "\tstock_quantity INTEGER DEFAULT 0, \n",
      "\tPRIMARY KEY (product_id), \n",
      "\tFOREIGN KEY(category_id) REFERENCES categories (category_id)\n",
      ")\n",
      "\n",
      "/*\n",
      "3 rows from products table:\n",
      "product_id\tname\tdescription\tprice\tcategory_id\tstock_quantity\n",
      "1\tSmartphone X\tLatest smartphone with advanced features\t699.99\t1\t50\n",
      "2\tLaptop Pro\tProfessional laptop for work and gaming\t1299.99\t1\t25\n",
      "3\tWireless Headphones\tNoise-canceling wireless headphones\t149.99\t1\t100\n",
      "*/\u001b[0m\u001b[32;1m\u001b[1;3mI will query the database for the top 3 customers based on the total amount they spent.\n",
      "\n",
      "Action: sql_db_query_checker\n",
      "Action Input: SELECT c.first_name, c.last_name, SUM(o.total_amount) AS total_spent, GROUP_CONCAT(p.name) AS purchased_items FROM customers c JOIN orders o ON c.customer_id = o.customer_id JOIN order_items oi ON o.order_id = oi.order_id JOIN products p ON oi.product_id = p.product_id GROUP BY c.customer_id ORDER BY total_spent DESC LIMIT 3;\u001b[0m\u001b[36;1m\u001b[1;3m```sql\n",
      "SELECT c.first_name, c.last_name, SUM(o.total_amount) AS total_spent, GROUP_CONCAT(p.name) AS purchased_items FROM customers c JOIN orders o ON c.customer_id = o.customer_id JOIN order_items oi ON o.order_id = oi.order_id JOIN products p ON oi.product_id = p.product_id GROUP BY c.customer_id ORDER BY total_spent DESC LIMIT 3;\n",
      "```\u001b[0m\u001b[32;1m\u001b[1;3mThe query looks good. I'll execute it.\n",
      "\n",
      "Action: sql_db_query\n",
      "Action Input: SELECT c.first_name, c.last_name, SUM(o.total_amount) AS total_spent, GROUP_CONCAT(p.name) AS purchased_items FROM customers c JOIN orders o ON c.customer_id = o.customer_id JOIN order_items oi ON o.order_id = oi.order_id JOIN products p ON oi.product_id = p.product_id GROUP BY c.customer_id ORDER BY total_spent DESC LIMIT 3;\u001b[0m\u001b[36;1m\u001b[1;3m[('John', 'Doe', 2039.9, 'Smartphone X,Wireless Headphones,Wireless Headphones,T-shirt Basic,Yoga Mat'), ('Michael', 'Johnson', 1299.99, 'Laptop Pro'), ('Jane', 'Smith', 1049.8799999999999, 'T-shirt Basic,SQL Database Design,Coffee Maker,Jeans Classic,SQL Database Design,Basketball')]\u001b[0m\u001b[32;1m\u001b[1;3mI now have the top 3 customers and their purchased items.\n",
      "Final Answer: The top 3 customers are: 1. John Doe spent $2039.9 and bought Smartphone X, Wireless Headphones, T-shirt Basic, and Yoga Mat. 2. Michael Johnson spent $1299.99 and bought Laptop Pro. 3. Jane Smith spent $1049.88 and bought T-shirt Basic, SQL Database Design, Coffee Maker, Jeans Classic, and Basketball.\u001b[0m\n",
      "\n",
      "\u001b[1m> Finished chain.\u001b[0m\n",
      "The top 3 customers are: 1. John Doe spent $2039.9 and bought Smartphone X, Wireless Headphones, T-shirt Basic, and Yoga Mat. 2. Michael Johnson spent $1299.99 and bought Laptop Pro. 3. Jane Smith spent $1049.88 and bought T-shirt Basic, SQL Database Design, Coffee Maker, Jeans Classic, and Basketball.\n"
     ]
    }
   ],
   "source": [
    "\n",
    "result = agent.run(\"who are top 3 customers and what did they buy?\")\n",
    "print(result)"
   ]
  },
  {
   "cell_type": "code",
   "execution_count": 604,
   "id": "405b5e04-afe8-4acc-95a6-2bc1f9465d6e",
   "metadata": {},
   "outputs": [
    {
     "name": "stdout",
     "output_type": "stream",
     "text": [
      "The top 3 customers are: 1. John Doe spent $2039.9 and bought Smartphone X, Wireless Headphones, T-shirt Basic, and Yoga Mat. 2. Michael Johnson spent $1299.99 and bought Laptop Pro. 3. Jane Smith spent $1049.88 and bought T-shirt Basic, SQL Database Design, Coffee Maker, Jeans Classic, and Basketball.\n"
     ]
    }
   ],
   "source": [
    "print(result)"
   ]
  },
  {
   "cell_type": "markdown",
   "id": "9dadf6aa-3917-4866-80bd-d16cde63561c",
   "metadata": {},
   "source": [
    "#### 5. Future enhancements\n",
    "\n",
    "The internal prompt is setup to output the final answer in string format.  A future enhancement might be output in tabular format."
   ]
  },
  {
   "cell_type": "code",
   "execution_count": null,
   "id": "3d60006f-53e8-4e20-9921-c93527f051d0",
   "metadata": {},
   "outputs": [],
   "source": []
  }
 ],
 "metadata": {
  "kernelspec": {
   "display_name": "Python [conda env:base] *",
   "language": "python",
   "name": "conda-base-py"
  },
  "language_info": {
   "codemirror_mode": {
    "name": "ipython",
    "version": 3
   },
   "file_extension": ".py",
   "mimetype": "text/x-python",
   "name": "python",
   "nbconvert_exporter": "python",
   "pygments_lexer": "ipython3",
   "version": "3.12.7"
  }
 },
 "nbformat": 4,
 "nbformat_minor": 5
}
